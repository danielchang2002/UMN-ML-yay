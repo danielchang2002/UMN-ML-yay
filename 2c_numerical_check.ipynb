{
 "cells": [
  {
   "cell_type": "code",
   "execution_count": 1,
   "metadata": {},
   "outputs": [],
   "source": [
    "import numpy as np"
   ]
  },
  {
   "cell_type": "code",
   "execution_count": 2,
   "metadata": {},
   "outputs": [
    {
     "data": {
      "text/plain": [
       "(array([1.      , 1.000008, 1.000016, 1.000024, 1.000032, 1.00004 ,\n",
       "        1.000048, 1.000056, 1.000064, 1.000072]),\n",
       " array([8.999928, 8.999936, 8.999944, 8.999952, 8.99996 , 8.999968,\n",
       "        8.999976, 8.999984, 8.999992, 9.      ]))"
      ]
     },
     "execution_count": 2,
     "metadata": {},
     "output_type": "execute_result"
    }
   ],
   "source": [
    "x_values = np.linspace(1, 9, 1000000)\n",
    "x_values[:10], x_values[-10:]"
   ]
  },
  {
   "cell_type": "code",
   "execution_count": 3,
   "metadata": {},
   "outputs": [],
   "source": [
    "def phi(x, alpha):\n",
    "    if abs(x - 5) - alpha < 0:\n",
    "        pred = 2\n",
    "    else:\n",
    "        pred = 1\n",
    "    return pred"
   ]
  },
  {
   "cell_type": "code",
   "execution_count": 4,
   "metadata": {},
   "outputs": [],
   "source": [
    "def p_x_given_c1(x):\n",
    "    return 1 / 8\n",
    "\n",
    "def p_x_given_c2(x):\n",
    "#     assert(x >= 2 and x <= 8)\n",
    "    if (x < 2 or x > 8):\n",
    "        return 0\n",
    "    if (x < 5):\n",
    "        return (1 / 9) * (x - 2)\n",
    "    else:\n",
    "        return (1 / 9) * (8 - x)"
   ]
  },
  {
   "cell_type": "code",
   "execution_count": 5,
   "metadata": {},
   "outputs": [],
   "source": [
    "def p_c2_given_x(x):\n",
    "    return p_x_given_c2(x) / (p_x_given_c1(x) + p_x_given_c2(x))\n",
    "\n",
    "def p_c1_given_x(x):\n",
    "    return (p_x_given_c1(x)) / (p_x_given_c1(x) + p_x_given_c2(x))"
   ]
  },
  {
   "cell_type": "code",
   "execution_count": 6,
   "metadata": {},
   "outputs": [],
   "source": [
    "def p_x(x):\n",
    "    priors = 0.5\n",
    "    return priors * (p_x_given_c1(x) + p_x_given_c2(x))"
   ]
  },
  {
   "cell_type": "code",
   "execution_count": 7,
   "metadata": {},
   "outputs": [
    {
     "data": {
      "text/plain": [
       "(array([5.0000025e-07, 5.0000025e-07, 5.0000025e-07, 5.0000025e-07,\n",
       "        5.0000025e-07, 5.0000025e-07, 5.0000025e-07, 5.0000025e-07,\n",
       "        5.0000025e-07, 5.0000025e-07]),\n",
       " array([1.83333247e-06, 1.83332892e-06, 1.83332536e-06, 1.83332181e-06,\n",
       "        1.83331825e-06, 1.83331469e-06, 1.83331114e-06, 1.83330758e-06,\n",
       "        1.83330403e-06, 1.83330047e-06]))"
      ]
     },
     "execution_count": 7,
     "metadata": {},
     "output_type": "execute_result"
    }
   ],
   "source": [
    "probabilities = [p_x(x) for x in x_values]\n",
    "probabilities /= np.sum(probabilities)\n",
    "probabilities[:10], probabilities[len(probabilities) // 2 : len(probabilities) // 2 + 10]"
   ]
  },
  {
   "cell_type": "code",
   "execution_count": 8,
   "metadata": {},
   "outputs": [
    {
     "data": {
      "text/plain": [
       "[<matplotlib.lines.Line2D at 0x7fd604db6d90>]"
      ]
     },
     "execution_count": 8,
     "metadata": {},
     "output_type": "execute_result"
    },
    {
     "data": {
      "image/png": "[encoded data removed]",
      "text/plain": [
       "<Figure size 432x288 with 1 Axes>"
      ]
     },
     "metadata": {
      "needs_background": "light"
     },
     "output_type": "display_data"
    }
   ],
   "source": [
    "import matplotlib.pyplot as plt\n",
    "\n",
    "plt.plot(x_values, probabilities)"
   ]
  },
  {
   "cell_type": "code",
   "execution_count": 34,
   "metadata": {},
   "outputs": [
    {
     "name": "stdout",
     "output_type": "stream",
     "text": [
      "0.30462425850155433\n"
     ]
    }
   ],
   "source": [
    "alpha = 1.875\n",
    "num_trials = 100000\n",
    "\n",
    "p_missclassified = np.zeros((num_trials, 1))\n",
    "\n",
    "for i in range(num_trials):\n",
    "\n",
    "    x = np.random.choice(x_values, p=probabilities)\n",
    "    \n",
    "    # impossible to missclassify if x < 2 or x > 8\n",
    "    if x < 2 or x > 8:\n",
    "        p_missclassified[i] = 0\n",
    "        continue\n",
    "        \n",
    "    # classify based on phi\n",
    "    pred = phi(x, alpha)\n",
    "\n",
    "    # if phi predicts 1, then the probability we guessed wrong is P(C2|x)\n",
    "    if (pred == 1):\n",
    "        p_missclassified[i] = p_c2_given_x(x)\n",
    "    # if phi predicts 2, then the probability we guessed wrong is P(C1|x)\n",
    "    else:\n",
    "        p_missclassified[i] = p_c1_given_x(x)\n",
    "print(np.mean(p_missclassified))"
   ]
  }
 ],
 "metadata": {
  "kernelspec": {
   "display_name": "Python 3",
   "language": "python",
   "name": "python3"
  },
  "language_info": {
   "codemirror_mode": {
    "name": "ipython",
    "version": 3
   },
   "file_extension": ".py",
   "mimetype": "text/x-python",
   "name": "python",
   "nbconvert_exporter": "python",
   "pygments_lexer": "ipython3",
   "version": "3.8.5"
  }
 },
 "nbformat": 4,
 "nbformat_minor": 4
}
