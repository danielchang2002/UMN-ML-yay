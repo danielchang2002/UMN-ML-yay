{
 "cells": [
  {
   "cell_type": "code",
   "execution_count": 5,
   "metadata": {},
   "outputs": [],
   "source": [
    "import numpy as np"
   ]
  },
  {
   "cell_type": "code",
   "execution_count": 21,
   "metadata": {},
   "outputs": [
    {
     "data": {
      "text/plain": [
       "(array([1.      , 1.000008, 1.000016, 1.000024, 1.000032, 1.00004 ,\n",
       "        1.000048, 1.000056, 1.000064, 1.000072]),\n",
       " array([8.999928, 8.999936, 8.999944, 8.999952, 8.99996 , 8.999968,\n",
       "        8.999976, 8.999984, 8.999992, 9.      ]))"
      ]
     },
     "execution_count": 21,
     "metadata": {},
     "output_type": "execute_result"
    }
   ],
   "source": [
    "x_values = np.linspace(1, 9, 1000000)\n",
    "x_values[:10], x_values[-10:]"
   ]
  },
  {
   "cell_type": "code",
   "execution_count": 22,
   "metadata": {},
   "outputs": [],
   "source": [
    "def phi(x, alpha):\n",
    "    if abs(x - 5) - alpha < 0:\n",
    "        pred = 2\n",
    "    else:\n",
    "        pred = 1\n",
    "    return pred"
   ]
  },
  {
   "cell_type": "code",
   "execution_count": 23,
   "metadata": {},
   "outputs": [],
   "source": [
    "def p_x_given_c1(x):\n",
    "    return 1 / 8\n",
    "\n",
    "def p_x_given_c2(x):\n",
    "    assert(x >= 2 and x <= 8)\n",
    "    if (x < 5):\n",
    "        return (1 / 9) * (x - 2)\n",
    "    else:\n",
    "        return (1 / 9) * (8 - x)"
   ]
  },
  {
   "cell_type": "code",
   "execution_count": 24,
   "metadata": {},
   "outputs": [],
   "source": [
    "def p_c2_given_x(x):\n",
    "    return p_x_given_c2(x) / (p_x_given_c1(x) + p_x_given_c2(x))\n",
    "\n",
    "def p_c1_given_x(x):\n",
    "    return (p_x_given_c1(x)) / (p_x_given_c1(x) + p_x_given_c2(x))"
   ]
  },
  {
   "cell_type": "code",
   "execution_count": 25,
   "metadata": {},
   "outputs": [
    {
     "name": "stdout",
     "output_type": "stream",
     "text": [
      "0.25677779344315205\n"
     ]
    }
   ],
   "source": [
    "alpha = 1.875\n",
    "p_missclassified = np.zeros(x_values.shape)\n",
    "\n",
    "for i, x in enumerate(x_values):\n",
    "    \n",
    "    # impossible to missclassify if x < 2 or x > 8\n",
    "    if x < 2 or x > 8:\n",
    "        p_missclassified[i] = 0\n",
    "        continue\n",
    "        \n",
    "    # classify based on phi\n",
    "    pred = phi(x, alpha)\n",
    "\n",
    "    # if phi predicts 1, then the probability we guessed wrong is P(C2|x)\n",
    "    if (pred == 1):\n",
    "        p_missclassified[i] = p_c2_given_x(x)\n",
    "    # if phi predicts 2, then the probability we guessed wrong is P(C1|x)\n",
    "    else:\n",
    "        p_missclassified[i] = p_c1_given_x(x)\n",
    "print(np.mean(p_missclassified))"
   ]
  },
  {
   "cell_type": "code",
   "execution_count": null,
   "metadata": {},
   "outputs": [],
   "source": []
  }
 ],
 "metadata": {
  "kernelspec": {
   "display_name": "Python 3",
   "language": "python",
   "name": "python3"
  },
  "language_info": {
   "codemirror_mode": {
    "name": "ipython",
    "version": 3
   },
   "file_extension": ".py",
   "mimetype": "text/x-python",
   "name": "python",
   "nbconvert_exporter": "python",
   "pygments_lexer": "ipython3",
   "version": "3.8.5"
  }
 },
 "nbformat": 4,
 "nbformat_minor": 4
}
